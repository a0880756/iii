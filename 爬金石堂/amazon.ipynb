{
 "cells": [
  {
   "cell_type": "code",
   "execution_count": 27,
   "metadata": {},
   "outputs": [
    {
     "data": {
      "text/plain": [
       "'\\n<!doctype html><html class=\"a-no-js\" data-19ax5a9jf=\"dingo\"><head><script>var aPageStart = (new Date()).getTime();</script><meta charset=\"utf-8\">\\n<script type=\\'text/javascript\\'>var ue_t0=ue_t0||+new Date();</script>\\n<script type=\\'text/javascript\\'>\\nvar ue_csm = window,\\n    ue_hob = +new Date();\\n(function(d){var e=d.ue=d.ue||{},f=Date.now||function(){return+new Date};e.d=function(b){return f()-(b?0:d.ue_t0)};e.stub=function(b,a){if(!b[a]){var c=[];b[a]=function(){c.push([c.slice.call(arguments),e.d(),d.ue_id])};b[a].replay=function(b){for(var a;a=c.shift();)b(a[0],a[1],a[2])};b[a].isStub=1}};e.exec=function(b,a){return function(){if(1==window.ueinit)try{return b.apply(this,arguments)}catch(c){ueLogError(c,{attribution:a||\"undefined\",logLevel:\"WARN\"})}}}})(ue_csm);\\n\\n\\n    var ue_err_chan = \\'jserr-rw\\';\\n(function(d,e){function h(f,b){if(!(a.ec>a.mxe)&&f){a.ter.push(f);b=b||{};var c=f.logLevel||b.logLevel;c&&c!==k&&c!==m&&c!==n&&c!==p||a.ec++;c&&c!=k||a.ecf++;b.pageURL=\"\"+(e.location?e.locat'"
      ]
     },
     "execution_count": 27,
     "metadata": {},
     "output_type": "execute_result"
    }
   ],
   "source": [
    "import requests\n",
    "\n",
    "URL = \"https://www.amazon.com/s/?page=3&keywords=nintendo+switch\"\n",
    "\n",
    "headers = {\n",
    "    \"User-Agent\":\"Mozilla/5.0 (Macintosh; Intel Mac OS X 10_13_0) AppleWebKit/537.36 (KHTML, like Gecko) Chrome/62.0.3202.75 Safari/537.36\"\n",
    "}\n",
    "\n",
    "resp = requests.get(URL, headers=headers)\n",
    "\n",
    "resp.text[:1000]"
   ]
  },
  {
   "cell_type": "code",
   "execution_count": 9,
   "metadata": {},
   "outputs": [],
   "source": [
    "from bs4 import BeautifulSoup\n",
    "\n",
    "soup = BeautifulSoup(resp.text, 'html5lib')"
   ]
  },
  {
   "cell_type": "code",
   "execution_count": 2,
   "metadata": {},
   "outputs": [
    {
     "data": {
      "text/plain": [
       "True"
      ]
     },
     "execution_count": 2,
     "metadata": {},
     "output_type": "execute_result"
    }
   ],
   "source": [
    "# 測試字串是否為xxx開頭\n",
    "'https://google.com'.startswith(\"https\")"
   ]
  },
  {
   "cell_type": "code",
   "execution_count": 3,
   "metadata": {},
   "outputs": [
    {
     "data": {
      "text/plain": [
       "True"
      ]
     },
     "execution_count": 3,
     "metadata": {},
     "output_type": "execute_result"
    }
   ],
   "source": [
    "# 測試字串內是否含有某字串\n",
    "'google' in 'https://google.com'"
   ]
  },
  {
   "cell_type": "code",
   "execution_count": 17,
   "metadata": {},
   "outputs": [],
   "source": [
    "urls = [x.get('href') for x in soup.select('a.s-access-detail-page') if x.get('href').startswith('https')]"
   ]
  },
  {
   "cell_type": "code",
   "execution_count": 18,
   "metadata": {},
   "outputs": [
    {
     "data": {
      "text/plain": [
       "'https://www.amazon.com/FIFA-18-Standard-Nintendo-Switch/dp/B01N1034ZH/ref=sr_1_35/130-5480931-2447335?ie=UTF8&qid=1509586874&sr=8-35&keywords=nintendo+switch'"
      ]
     },
     "execution_count": 18,
     "metadata": {},
     "output_type": "execute_result"
    }
   ],
   "source": [
    "urls[0]"
   ]
  },
  {
   "cell_type": "code",
   "execution_count": 23,
   "metadata": {},
   "outputs": [],
   "source": [
    "import re\n",
    "\n",
    "detail_urls = []\n",
    "\n",
    "for url in urls:\n",
    "    detail_urls.append(re.findall('(https://www.amazon.com/.+/dp/.+)/ref=', url)[0])"
   ]
  },
  {
   "cell_type": "code",
   "execution_count": 24,
   "metadata": {},
   "outputs": [
    {
     "data": {
      "text/plain": [
       "['https://www.amazon.com/FIFA-18-Standard-Nintendo-Switch/dp/B01N1034ZH',\n",
       " 'https://www.amazon.com/Nintendo-Switch-Dock-Set/dp/B06ZZ6FGGL',\n",
       " 'https://www.amazon.com/Yoshi-Nintendo-Switch/dp/B072JYTJCH',\n",
       " 'https://www.amazon.com/Nintendo-Joy-L-Neon-Yellow-switch/dp/B06ZYM3LBP',\n",
       " 'https://www.amazon.com/Sonic-Forces-Standard-Nintendo-Switch/dp/B07576J1H6',\n",
       " 'https://www.amazon.com/Mumba-Nintendo-Switch-Heavy-Rubberized-release/dp/B07125JNMY',\n",
       " 'https://www.amazon.com/Nyko-Portable-Docking-Kit-Nintendo-Switch/dp/B071X7C1B4',\n",
       " 'https://www.amazon.com/Nintendo-Joy-Neon-Red-Switch/dp/B01MT8RT5I',\n",
       " 'https://www.amazon.com/Nintendo-JETech-Protective-Shock-Absorption-Anti-Scratch/dp/B07457V4XJ',\n",
       " 'https://www.amazon.com/Premium-Quality-Protective-Portable-Nintendo-Accessories/dp/B071NFKBP7',\n",
       " 'https://www.amazon.com/FastSnail-Nintendo-Switch-Wear-resistant-Handle/dp/B06XZ1PCKK',\n",
       " 'https://www.amazon.com/Rayman-Legends-Definitive-Nintendo-Switch/dp/B0744FX7SR',\n",
       " 'https://www.amazon.com/Nintendo-Switch-Premium-Travel-Console-500-035/dp/B01MS7AI9G',\n",
       " 'https://www.amazon.com/Super-Mario-Odyssey-Accessory-Officially-Licensed/dp/B01A8LQGCQ']"
      ]
     },
     "execution_count": 24,
     "metadata": {},
     "output_type": "execute_result"
    }
   ],
   "source": [
    "detail_urls"
   ]
  },
  {
   "cell_type": "code",
   "execution_count": 26,
   "metadata": {},
   "outputs": [],
   "source": [
    "headers = {\n",
    "    \"User-Agent\":\"Mozilla/5.0 (Macintosh; Intel Mac OS X 10_13_0) AppleWebKit/537.36 (KHTML, like Gecko) Chrome/62.0.3202.75 Safari/537.36\"\n",
    "}\n",
    "for url in detail_urls:\n",
    "    resp = requests.get(url, headers=headers)\n",
    "    filename = url.split('/')[-1]\n",
    "    with open('./%s.html'%filename, 'w') as f:\n",
    "        f.write(resp.text)"
   ]
  }
 ],
 "metadata": {
  "kernelspec": {
   "display_name": "Python 3",
   "language": "python",
   "name": "python3"
  },
  "language_info": {
   "codemirror_mode": {
    "name": "ipython",
    "version": 3
   },
   "file_extension": ".py",
   "mimetype": "text/x-python",
   "name": "python",
   "nbconvert_exporter": "python",
   "pygments_lexer": "ipython3",
   "version": "3.6.2"
  }
 },
 "nbformat": 4,
 "nbformat_minor": 2
}
