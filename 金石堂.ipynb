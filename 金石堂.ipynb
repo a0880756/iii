{
 "cells": [
  {
   "cell_type": "code",
   "execution_count": 73,
   "metadata": {
    "scrolled": true
   },
   "outputs": [],
   "source": [
    "import requests\n",
    "import json\n",
    "from bs4 import BeautifulSoup\n",
    "import json"
   ]
  },
  {
   "cell_type": "code",
   "execution_count": null,
   "metadata": {},
   "outputs": [],
   "source": [
    "URL='https://www.kingstone.com.tw/book/book_class.asp?class_id=JGA'\n",
    "headers ={\n",
    "    'Cookie':'Mozilla/5.0 (X11; Ubuntu; Linux x86_64; rv:56.0) Gecko/20100101 Firefox/56.0',\n",
    "    'User-Agent':'ASPSESSIONIDCCDQRTSA=NJNICIKBBPMGCNJKIMIFMCAC; kingstone_=RbjkNEtAcgw1EGA8gymBHKv/tQw0001; MyCount=0; MyAmt=0; customerid=19444763430CoXAKoQfio; _ga=GA1.3.939018481.1510730709; _gid=GA1.3.665258782.1510730709; app_ad_closed=0; __BWfp=c1510730709390x1d43ccf5b; crazy_ad_closed=1; kingstone_=PaBsrfHkNtM7hAmK6vTzjo5GLsc0002; ASPSESSIONIDAABRRBCQ=IPMMNDLBJNHLBFLDAJONHKCC; ASPSESSIONIDSQDQRRSD=ABDPCPKBNIFKGKEDMLIEOHJB; ASPSESSIONIDQATCRCAR=IBDHDGLBHEIBANEBKIEPPPJM; NSC_xxx_mc*80=ffffffffaf181c3345525d5f4f58455e445a4a423660; _gat=1' \n",
    "} \n",
    "resp = requests.get(URL,headers = headers)\n",
    "s = BeautifulSoup(resp.text,'html5lib')\n",
    "s"
   ]
  },
  {
   "cell_type": "code",
   "execution_count": 12,
   "metadata": {},
   "outputs": [],
   "source": [
    "url = []\n",
    "for i in s.findAll('a',{'class':'anchor'}):\n",
    "    url.append(i.get(\"href\"))"
   ]
  },
  {
   "cell_type": "code",
   "execution_count": 13,
   "metadata": {},
   "outputs": [
    {
     "data": {
      "text/plain": [
       "['https://www.kingstone.com.tw/event/1711_d002/002.asp?lid=common-index-hotkeywords-top&actid=WISE',\n",
       " 'javascript:void(0)',\n",
       " 'javascript:void(0)',\n",
       " 'javascript:void(0)',\n",
       " 'javascript:void(0)',\n",
       " 'javascript:void(0)',\n",
       " 'javascript:void(0)',\n",
       " 'javascript:void(0)',\n",
       " 'javascript:void(0)',\n",
       " 'javascript:void(0)',\n",
       " 'javascript:void(0)',\n",
       " 'javascript:void(0)',\n",
       " 'javascript:void(0)',\n",
       " 'javascript:void(0)',\n",
       " 'javascript:void(0)',\n",
       " 'javascript:void(0)',\n",
       " 'javascript:void(0)',\n",
       " 'javascript:void(0)',\n",
       " 'javascript:void(0)',\n",
       " 'javascript:void(0)',\n",
       " 'javascript:void(0)',\n",
       " 'javascript:void(0)',\n",
       " 'javascript:void(0)',\n",
       " 'javascript:void(0)',\n",
       " 'javascript:void(0)',\n",
       " '/book/book_page.asp?kmcode=2018611251870&lid=book_class_sec_se&actid=WISE',\n",
       " '/book/book_page.asp?kmcode=2018611307058&lid=book_class_sec_se&actid=WISE',\n",
       " '/book/book_page.asp?kmcode=2018611563614&lid=book_class_sec_se&actid=WISE',\n",
       " '/book/book_page.asp?kmcode=2018611580192&lid=book_class_sec_se&actid=WISE',\n",
       " '/book/book_page.asp?kmcode=2018611532511&lid=book_class_sec_se&actid=WISE',\n",
       " '/book/book_page.asp?kmcode=2018611559099&lid=book_class_sec_se&actid=WISE',\n",
       " '/book/book_page.asp?kmcode=2018611584060&lid=book_class_sec_se&actid=WISE',\n",
       " '/book/book_page.asp?kmcode=2018611579073&lid=book_class_sec_se&actid=WISE',\n",
       " '/book/book_page.asp?kmcode=2018560584708&lid=book_class_sec_se&actid=WISE',\n",
       " '/book/book_page.asp?kmcode=2018611504754&lid=book_class_sec_se&actid=WISE',\n",
       " '/book/book_page.asp?kmcode=2018560588416&lid=book_class_sec_se&actid=WISE',\n",
       " '/book/book_page.asp?kmcode=2018611431708&lid=book_class_sec_se&actid=WISE',\n",
       " '/book/book_page.asp?kmcode=2018611584800&lid=book_class_sec_se&actid=WISE',\n",
       " '/book/book_page.asp?kmcode=2018611577369&lid=book_class_sec_se&actid=WISE',\n",
       " '/book/book_page.asp?kmcode=2018611490958&lid=book_class_sec_se&actid=WISE',\n",
       " '/book/book_page.asp?kmcode=2018611044717&lid=book_class_sec_se&actid=WISE',\n",
       " '/book/book_page.asp?kmcode=2018611578731&lid=book_class_sec_se&actid=WISE',\n",
       " '/book/book_page.asp?kmcode=2018611587306&lid=book_class_sec_se&actid=WISE',\n",
       " '/book/book_page.asp?kmcode=2018610386474&lid=book_class_sec_se&actid=WISE',\n",
       " '/book/book_page.asp?kmcode=2018611583018&lid=book_class_sec_se&actid=WISE',\n",
       " 'https://www.facebook.com/KingstoneMys?lid=book-class-pro-store&actid=WISE',\n",
       " 'javascript:void(0)',\n",
       " '/event/ActivityPage/EDM/epB001171115.html',\n",
       " '/event/ActivityPage/EDM/epB001171108.html',\n",
       " '/event/ActivityPage/EDM/epB001171101.html',\n",
       " '/event/ActivityPage/EDM/epB001171025.html',\n",
       " 'javascript:void(0)',\n",
       " 'javascript:void(0)',\n",
       " 'javascript:void(0)']"
      ]
     },
     "execution_count": 13,
     "metadata": {},
     "output_type": "execute_result"
    }
   ],
   "source": [
    "url"
   ]
  },
  {
   "cell_type": "code",
   "execution_count": 64,
   "metadata": {},
   "outputs": [
    {
     "data": {
      "text/plain": [
       "['https://www.kingstone.com.tw/book/book_page.asp?kmcode=2018611251870',\n",
       " 'https://www.kingstone.com.tw/book/book_page.asp?kmcode=2018611307058',\n",
       " 'https://www.kingstone.com.tw/book/book_page.asp?kmcode=2018611563614',\n",
       " 'https://www.kingstone.com.tw/book/book_page.asp?kmcode=2018611580192',\n",
       " 'https://www.kingstone.com.tw/book/book_page.asp?kmcode=2018611532511',\n",
       " 'https://www.kingstone.com.tw/book/book_page.asp?kmcode=2018611559099',\n",
       " 'https://www.kingstone.com.tw/book/book_page.asp?kmcode=2018611584060',\n",
       " 'https://www.kingstone.com.tw/book/book_page.asp?kmcode=2018611579073',\n",
       " 'https://www.kingstone.com.tw/book/book_page.asp?kmcode=2018560584708',\n",
       " 'https://www.kingstone.com.tw/book/book_page.asp?kmcode=2018611504754',\n",
       " 'https://www.kingstone.com.tw/book/book_page.asp?kmcode=2018560588416',\n",
       " 'https://www.kingstone.com.tw/book/book_page.asp?kmcode=2018611431708',\n",
       " 'https://www.kingstone.com.tw/book/book_page.asp?kmcode=2018611584800',\n",
       " 'https://www.kingstone.com.tw/book/book_page.asp?kmcode=2018611577369',\n",
       " 'https://www.kingstone.com.tw/book/book_page.asp?kmcode=2018611490958',\n",
       " 'https://www.kingstone.com.tw/book/book_page.asp?kmcode=2018611044717',\n",
       " 'https://www.kingstone.com.tw/book/book_page.asp?kmcode=2018611578731',\n",
       " 'https://www.kingstone.com.tw/book/book_page.asp?kmcode=2018611587306',\n",
       " 'https://www.kingstone.com.tw/book/book_page.asp?kmcode=2018610386474',\n",
       " 'https://www.kingstone.com.tw/book/book_page.asp?kmcode=2018611583018']"
      ]
     },
     "execution_count": 64,
     "metadata": {},
     "output_type": "execute_result"
    }
   ],
   "source": [
    "urls= []\n",
    "for url in s.select('div.content > div.box > ul > li > a'):\n",
    "    urls.append( 'https://www.kingstone.com.tw' + url.get(\"href\").split(\"&\")[0])\n",
    "urls"
   ]
  },
  {
   "cell_type": "code",
   "execution_count": 81,
   "metadata": {},
   "outputs": [
    {
     "data": {
      "text/plain": [
       "20"
      ]
     },
     "execution_count": 81,
     "metadata": {},
     "output_type": "execute_result"
    }
   ],
   "source": [
    "len(s.select('div.content > div.box > ul > li > a'))"
   ]
  },
  {
   "cell_type": "code",
   "execution_count": 75,
   "metadata": {},
   "outputs": [
    {
     "name": "stdout",
     "output_type": "stream",
     "text": [
      "finish 1\n",
      "finish 2\n",
      "finish 3\n",
      "finish 4\n",
      "finish 5\n",
      "finish 6\n",
      "finish 7\n",
      "finish 8\n",
      "finish 9\n",
      "finish 10\n",
      "finish 11\n",
      "finish 12\n",
      "finish 13\n",
      "finish 14\n",
      "finish 15\n",
      "finish 16\n",
      "finish 17\n",
      "finish 18\n",
      "finish 19\n",
      "finish 20\n",
      "finish 21\n",
      "finish 22\n",
      "finish 23\n",
      "finish 24\n",
      "finish 25\n",
      "finish 26\n",
      "finish 27\n",
      "finish 28\n",
      "finish 29\n",
      "finish 30\n",
      "finish 31\n",
      "finish 32\n",
      "finish 33\n",
      "finish 34\n",
      "finish 35\n",
      "finish 36\n",
      "finish 37\n",
      "finish 38\n",
      "finish 39\n",
      "finish 40\n",
      "finish 41\n",
      "finish 42\n",
      "finish 43\n",
      "finish 44\n",
      "finish 45\n",
      "finish 46\n",
      "finish 47\n",
      "finish 48\n",
      "finish 49\n",
      "finish 50\n",
      "finish 51\n",
      "finish 52\n",
      "finish 53\n",
      "finish 54\n",
      "finish 55\n",
      "finish 56\n",
      "finish 57\n",
      "finish 58\n",
      "finish 59\n",
      "finish 60\n",
      "finish 61\n",
      "finish 62\n",
      "finish 63\n",
      "finish 64\n",
      "finish 65\n",
      "finish 66\n",
      "finish 67\n",
      "finish 68\n",
      "finish 69\n",
      "finish 70\n",
      "finish 71\n",
      "finish 72\n",
      "finish 73\n",
      "finish 74\n",
      "finish 75\n",
      "finish 76\n",
      "finish 77\n",
      "finish 78\n",
      "finish 79\n",
      "finish 80\n",
      "finish 81\n",
      "finish 82\n",
      "finish 83\n",
      "finish 84\n",
      "finish 85\n",
      "finish 86\n",
      "finish 87\n",
      "finish 88\n",
      "finish 89\n",
      "finish 90\n",
      "finish 91\n",
      "finish 92\n",
      "finish 93\n",
      "finish 94\n",
      "finish 95\n",
      "finish 96\n",
      "finish 97\n",
      "finish 98\n",
      "finish 99\n",
      "finish 100\n",
      "finish 101\n",
      "finish 102\n",
      "finish 103\n",
      "finish 104\n",
      "finish 105\n",
      "finish 106\n",
      "finish 107\n",
      "finish 108\n",
      "finish 109\n",
      "finish 110\n",
      "finish 111\n",
      "finish 112\n",
      "finish 113\n",
      "finish 114\n",
      "finish 115\n",
      "finish 116\n",
      "finish 117\n",
      "finish 118\n",
      "finish 119\n",
      "finish 120\n",
      "finish 121\n",
      "finish 122\n",
      "finish 123\n",
      "finish 124\n",
      "finish 125\n",
      "finish 126\n",
      "finish 127\n",
      "finish 128\n",
      "finish 129\n",
      "finish 130\n",
      "finish 131\n",
      "finish 132\n",
      "finish 133\n",
      "finish 134\n",
      "finish 135\n",
      "finish 136\n",
      "finish 137\n",
      "finish 138\n",
      "finish 139\n",
      "finish 140\n",
      "finish 141\n",
      "finish 142\n",
      "finish 143\n",
      "finish 144\n",
      "finish 145\n",
      "finish 146\n",
      "finish 147\n"
     ]
    },
    {
     "ename": "FileNotFoundError",
     "evalue": "[Errno 2] No such file or directory: './kingstone/japanese.csv'",
     "output_type": "error",
     "traceback": [
      "\u001b[0;31m---------------------------------------------------------------------------\u001b[0m",
      "\u001b[0;31mFileNotFoundError\u001b[0m                         Traceback (most recent call last)",
      "\u001b[0;32m<ipython-input-75-a2c62ace2613>\u001b[0m in \u001b[0;36m<module>\u001b[0;34m()\u001b[0m\n\u001b[1;32m      7\u001b[0m     \u001b[0mprint\u001b[0m\u001b[0;34m(\u001b[0m\u001b[0;34m\"finish {}\"\u001b[0m\u001b[0;34m.\u001b[0m\u001b[0mformat\u001b[0m\u001b[0;34m(\u001b[0m\u001b[0mp\u001b[0m\u001b[0;34m)\u001b[0m\u001b[0;34m)\u001b[0m\u001b[0;34m\u001b[0m\u001b[0m\n\u001b[1;32m      8\u001b[0m \u001b[0;34m\u001b[0m\u001b[0m\n\u001b[0;32m----> 9\u001b[0;31m \u001b[0;32mwith\u001b[0m \u001b[0mopen\u001b[0m\u001b[0;34m(\u001b[0m\u001b[0;34m\"./kingstone/japanese.csv\"\u001b[0m\u001b[0;34m,\u001b[0m \u001b[0;34m\"w\"\u001b[0m\u001b[0;34m)\u001b[0m \u001b[0;32mas\u001b[0m \u001b[0mf\u001b[0m\u001b[0;34m:\u001b[0m\u001b[0;34m\u001b[0m\u001b[0m\n\u001b[0m\u001b[1;32m     10\u001b[0m     \u001b[0mf\u001b[0m\u001b[0;34m.\u001b[0m\u001b[0mwrite\u001b[0m\u001b[0;34m(\u001b[0m\u001b[0mjson\u001b[0m\u001b[0;34m.\u001b[0m\u001b[0mdumps\u001b[0m\u001b[0;34m(\u001b[0m\u001b[0murls\u001b[0m\u001b[0;34m)\u001b[0m\u001b[0;34m)\u001b[0m\u001b[0;34m\u001b[0m\u001b[0m\n\u001b[1;32m     11\u001b[0m \u001b[0;34m\u001b[0m\u001b[0m\n",
      "\u001b[0;31mFileNotFoundError\u001b[0m: [Errno 2] No such file or directory: './kingstone/japanese.csv'"
     ]
    }
   ],
   "source": [
    "urls = []\n",
    "for p in range(1,148):\n",
    "    URL = \"https://www.kingstone.com.tw/book/book_class.asp?class_id=JGA&page=%s\"\n",
    "    resp = requests.get(URL%p)\n",
    "    for url in s.select('div.content > div.box > ul > li > a'):\n",
    "        urls.append( 'https://www.kingstone.com.tw' + url.get(\"href\").split(\"&\")[0])\n",
    "    print(\"finish {}\".format(p))\n",
    "    \n",
    "\n",
    "    "
   ]
  },
  {
   "cell_type": "code",
   "execution_count": 82,
   "metadata": {},
   "outputs": [],
   "source": [
    "with open(\"./kingstone/japanese.csv\", \"w\") as f:\n",
    "    f.write(json.dumps(urls))"
   ]
  },
  {
   "cell_type": "code",
   "execution_count": 83,
   "metadata": {},
   "outputs": [
    {
     "data": {
      "text/plain": [
       "2940"
      ]
     },
     "execution_count": 83,
     "metadata": {},
     "output_type": "execute_result"
    }
   ],
   "source": [
    "len(urls)"
   ]
  },
  {
   "cell_type": "code",
   "execution_count": null,
   "metadata": {},
   "outputs": [],
   "source": []
  }
 ],
 "metadata": {
  "kernelspec": {
   "display_name": "Python 3",
   "language": "python",
   "name": "python3"
  },
  "language_info": {
   "codemirror_mode": {
    "name": "ipython",
    "version": 3
   },
   "file_extension": ".py",
   "mimetype": "text/x-python",
   "name": "python",
   "nbconvert_exporter": "python",
   "pygments_lexer": "ipython3",
   "version": "3.6.1"
  }
 },
 "nbformat": 4,
 "nbformat_minor": 2
}
